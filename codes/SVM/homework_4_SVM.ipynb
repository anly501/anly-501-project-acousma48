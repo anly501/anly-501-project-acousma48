{
 "cells": [
  {
   "cell_type": "markdown",
   "id": "ea926437",
   "metadata": {},
   "source": [
    "# Methods"
   ]
  },
  {
   "cell_type": "markdown",
   "id": "515b46bd",
   "metadata": {},
   "source": [
    "SVM, support vector machines, is a relatively Modern simple Supervised Machine Learning Algorithm used for classification and/or regression."
   ]
  },
  {
   "cell_type": "markdown",
   "id": "5c48c1b2",
   "metadata": {},
   "source": [
    "The following figure is a typical example of SVM."
   ]
  },
  {
   "cell_type": "markdown",
   "id": "0e3c8747",
   "metadata": {},
   "source": [
    "\n",
    "<img src = svm_example.png>"
   ]
  },
  {
   "cell_type": "markdown",
   "id": "7d97c5c0",
   "metadata": {},
   "source": [
    "SVM has three parameters, namely gamma, kernel and C."
   ]
  },
  {
   "cell_type": "markdown",
   "id": "6c156a5b",
   "metadata": {},
   "source": [
    "The advantage of SVM is that it is very versatile, because we can use different types of kernels and different kernel parameters for specific data, and we can use SVM methods for both low-dimensional and high-dimensional data."
   ]
  },
  {
   "cell_type": "markdown",
   "id": "25da3b0b",
   "metadata": {},
   "source": [
    "SVM also has some disadvantages, such as productivity decreases as the size of the training set increases and does not provide direct probability estimates."
   ]
  },
  {
   "cell_type": "code",
   "execution_count": 1,
   "id": "2e6491da",
   "metadata": {},
   "outputs": [],
   "source": [
    "import pandas as pd\n",
    "import seaborn as sns \n",
    "import matplotlib.pyplot as plt\n",
    "from sklearn import tree\n",
    "from IPython.display import Image\n",
    "import numpy as np\n",
    "from collections import Counter\n",
    "from sklearn.metrics import precision_recall_fscore_support\n",
    "from sklearn.feature_extraction.text import CountVectorizer\n",
    "from sklearn.metrics import confusion_matrix,accuracy_score,precision_score, recall_score, ConfusionMatrixDisplay\n",
    "from sklearn.svm import SVC"
   ]
  },
  {
   "cell_type": "markdown",
   "id": "4e01fdf3",
   "metadata": {},
   "source": [
    "# Class Distribution"
   ]
  },
  {
   "cell_type": "code",
   "execution_count": 2,
   "id": "ede03b06",
   "metadata": {},
   "outputs": [
    {
     "name": "stdout",
     "output_type": "stream",
     "text": [
      "shape of the data (200, 5)\n"
     ]
    }
   ],
   "source": [
    "df = pd.read_csv(\"twitter_data_clean.csv\")\n",
    "df.rename({\"Whether the relevant\": \"relevance\"}, axis =1, inplace = True)\n",
    "\n",
    "print(\"shape of the data\", df.shape)"
   ]
  },
  {
   "cell_type": "markdown",
   "id": "898f2c23",
   "metadata": {},
   "source": [
    "Processing Data"
   ]
  },
  {
   "cell_type": "code",
   "execution_count": 3,
   "id": "5fd1ec2c",
   "metadata": {},
   "outputs": [
    {
     "name": "stderr",
     "output_type": "stream",
     "text": [
      "C:\\Users\\32\\anaconda3\\lib\\site-packages\\sklearn\\utils\\deprecation.py:87: FutureWarning: Function get_feature_names is deprecated; get_feature_names is deprecated in 1.0 and will be removed in 1.2. Please use get_feature_names_out instead.\n",
      "  warnings.warn(msg, category=FutureWarning)\n"
     ]
    },
    {
     "data": {
      "text/html": [
       "<div>\n",
       "<style scoped>\n",
       "    .dataframe tbody tr th:only-of-type {\n",
       "        vertical-align: middle;\n",
       "    }\n",
       "\n",
       "    .dataframe tbody tr th {\n",
       "        vertical-align: top;\n",
       "    }\n",
       "\n",
       "    .dataframe thead th {\n",
       "        text-align: right;\n",
       "    }\n",
       "</style>\n",
       "<table border=\"1\" class=\"dataframe\">\n",
       "  <thead>\n",
       "    <tr style=\"text-align: right;\">\n",
       "      <th></th>\n",
       "      <th>abdulaziz</th>\n",
       "      <th>able</th>\n",
       "      <th>ableism</th>\n",
       "      <th>abolishing</th>\n",
       "      <th>absorbing</th>\n",
       "      <th>academy</th>\n",
       "      <th>accept</th>\n",
       "      <th>access</th>\n",
       "      <th>accidently</th>\n",
       "      <th>account</th>\n",
       "      <th>...</th>\n",
       "      <th>zh</th>\n",
       "      <th>zichal</th>\n",
       "      <th>zj</th>\n",
       "      <th>znbgk</th>\n",
       "      <th>zoa</th>\n",
       "      <th>zodiac</th>\n",
       "      <th>zplmaegx</th>\n",
       "      <th>favorite_count</th>\n",
       "      <th>retweet_count</th>\n",
       "      <th>relevance</th>\n",
       "    </tr>\n",
       "  </thead>\n",
       "  <tbody>\n",
       "    <tr>\n",
       "      <th>0</th>\n",
       "      <td>0</td>\n",
       "      <td>0</td>\n",
       "      <td>1</td>\n",
       "      <td>0</td>\n",
       "      <td>0</td>\n",
       "      <td>0</td>\n",
       "      <td>0</td>\n",
       "      <td>0</td>\n",
       "      <td>0</td>\n",
       "      <td>0</td>\n",
       "      <td>...</td>\n",
       "      <td>0</td>\n",
       "      <td>0</td>\n",
       "      <td>0</td>\n",
       "      <td>0</td>\n",
       "      <td>0</td>\n",
       "      <td>0</td>\n",
       "      <td>0</td>\n",
       "      <td>0</td>\n",
       "      <td>0</td>\n",
       "      <td>0</td>\n",
       "    </tr>\n",
       "    <tr>\n",
       "      <th>1</th>\n",
       "      <td>0</td>\n",
       "      <td>0</td>\n",
       "      <td>0</td>\n",
       "      <td>0</td>\n",
       "      <td>0</td>\n",
       "      <td>0</td>\n",
       "      <td>0</td>\n",
       "      <td>0</td>\n",
       "      <td>0</td>\n",
       "      <td>0</td>\n",
       "      <td>...</td>\n",
       "      <td>0</td>\n",
       "      <td>0</td>\n",
       "      <td>0</td>\n",
       "      <td>0</td>\n",
       "      <td>0</td>\n",
       "      <td>0</td>\n",
       "      <td>0</td>\n",
       "      <td>0</td>\n",
       "      <td>0</td>\n",
       "      <td>1</td>\n",
       "    </tr>\n",
       "    <tr>\n",
       "      <th>2</th>\n",
       "      <td>0</td>\n",
       "      <td>0</td>\n",
       "      <td>0</td>\n",
       "      <td>0</td>\n",
       "      <td>0</td>\n",
       "      <td>0</td>\n",
       "      <td>0</td>\n",
       "      <td>0</td>\n",
       "      <td>0</td>\n",
       "      <td>0</td>\n",
       "      <td>...</td>\n",
       "      <td>0</td>\n",
       "      <td>0</td>\n",
       "      <td>0</td>\n",
       "      <td>0</td>\n",
       "      <td>0</td>\n",
       "      <td>0</td>\n",
       "      <td>0</td>\n",
       "      <td>2</td>\n",
       "      <td>0</td>\n",
       "      <td>0</td>\n",
       "    </tr>\n",
       "    <tr>\n",
       "      <th>3</th>\n",
       "      <td>0</td>\n",
       "      <td>0</td>\n",
       "      <td>0</td>\n",
       "      <td>0</td>\n",
       "      <td>0</td>\n",
       "      <td>0</td>\n",
       "      <td>0</td>\n",
       "      <td>0</td>\n",
       "      <td>0</td>\n",
       "      <td>0</td>\n",
       "      <td>...</td>\n",
       "      <td>0</td>\n",
       "      <td>0</td>\n",
       "      <td>0</td>\n",
       "      <td>0</td>\n",
       "      <td>0</td>\n",
       "      <td>0</td>\n",
       "      <td>0</td>\n",
       "      <td>0</td>\n",
       "      <td>0</td>\n",
       "      <td>0</td>\n",
       "    </tr>\n",
       "    <tr>\n",
       "      <th>4</th>\n",
       "      <td>0</td>\n",
       "      <td>0</td>\n",
       "      <td>0</td>\n",
       "      <td>0</td>\n",
       "      <td>0</td>\n",
       "      <td>0</td>\n",
       "      <td>0</td>\n",
       "      <td>0</td>\n",
       "      <td>0</td>\n",
       "      <td>0</td>\n",
       "      <td>...</td>\n",
       "      <td>0</td>\n",
       "      <td>0</td>\n",
       "      <td>0</td>\n",
       "      <td>0</td>\n",
       "      <td>0</td>\n",
       "      <td>0</td>\n",
       "      <td>0</td>\n",
       "      <td>0</td>\n",
       "      <td>0</td>\n",
       "      <td>0</td>\n",
       "    </tr>\n",
       "  </tbody>\n",
       "</table>\n",
       "<p>5 rows × 1949 columns</p>\n",
       "</div>"
      ],
      "text/plain": [
       "   abdulaziz  able  ableism  abolishing  absorbing  academy  accept  access  \\\n",
       "0          0     0        1           0          0        0       0       0   \n",
       "1          0     0        0           0          0        0       0       0   \n",
       "2          0     0        0           0          0        0       0       0   \n",
       "3          0     0        0           0          0        0       0       0   \n",
       "4          0     0        0           0          0        0       0       0   \n",
       "\n",
       "   accidently  account  ...  zh  zichal  zj  znbgk  zoa  zodiac  zplmaegx  \\\n",
       "0           0        0  ...   0       0   0      0    0       0         0   \n",
       "1           0        0  ...   0       0   0      0    0       0         0   \n",
       "2           0        0  ...   0       0   0      0    0       0         0   \n",
       "3           0        0  ...   0       0   0      0    0       0         0   \n",
       "4           0        0  ...   0       0   0      0    0       0         0   \n",
       "\n",
       "   favorite_count  retweet_count  relevance  \n",
       "0               0              0          0  \n",
       "1               0              0          1  \n",
       "2               2              0          0  \n",
       "3               0              0          0  \n",
       "4               0              0          0  \n",
       "\n",
       "[5 rows x 1949 columns]"
      ]
     },
     "execution_count": 3,
     "metadata": {},
     "output_type": "execute_result"
    }
   ],
   "source": [
    "vectorizer = CountVectorizer()\n",
    " \n",
    "vectorizer.fit(df[\"text\"])\n",
    "temp = vectorizer.transform(df[\"text\"])\n",
    "bag_of_words = pd.DataFrame(temp.toarray(), columns = vectorizer.get_feature_names())\n",
    "\n",
    "df = pd.concat([bag_of_words,df], axis =1)\n",
    "df.drop(columns=[\"text\",\"created_at\"], inplace = True)\n",
    "df.head()"
   ]
  },
  {
   "cell_type": "markdown",
   "id": "4ef7e7c0",
   "metadata": {},
   "source": [
    "Compute distribution of class labels"
   ]
  },
  {
   "cell_type": "code",
   "execution_count": 4,
   "id": "407295d6",
   "metadata": {},
   "outputs": [
    {
     "name": "stdout",
     "output_type": "stream",
     "text": [
      "Number of points with target=0: 120 60.0 %\n",
      "Number of points with target=1: 80 40.0 %\n"
     ]
    }
   ],
   "source": [
    "num_0 = df[\"relevance\"].value_counts()[0]\n",
    "num_1 = df[\"relevance\"].value_counts()[1]\n",
    "print(\"Number of points with target=0:\", num_0, num_0/(num_0+num_1)*100, \"%\")\n",
    "print(\"Number of points with target=1:\", num_1, num_1/(num_0+num_1)*100, \"%\")"
   ]
  },
  {
   "cell_type": "markdown",
   "id": "55e7ec56",
   "metadata": {},
   "source": [
    "# Baseline Model for comparison"
   ]
  },
  {
   "cell_type": "code",
   "execution_count": 5,
   "id": "8976d2b9",
   "metadata": {},
   "outputs": [],
   "source": [
    "## RANDOM CLASSIFIER \n",
    "def random_classifier(y_data):\n",
    "    ypred=[];\n",
    "    max_label=np.max(y_data); #print(max_label)\n",
    "    for i in range(0,len(y_data)):\n",
    "        ypred.append(int(np.floor((max_label+1)*np.random.uniform(0,1))))\n",
    "\n",
    "    print(\"-----RANDOM CLASSIFIER-----\")\n",
    "    print(\"count of prediction:\",Counter(ypred).values()) # counts the elements' frequency\n",
    "    print(\"probability of prediction:\",np.fromiter(Counter(ypred).values(), dtype=float)/len(y_data)) # counts the elements' frequency\n",
    "    print(\"accuracy\",accuracy_score(y_data, ypred))\n",
    "    print(\"percision, recall, fscore,\",precision_recall_fscore_support(y_data, ypred))"
   ]
  },
  {
   "cell_type": "code",
   "execution_count": 6,
   "id": "c744f8dd",
   "metadata": {},
   "outputs": [
    {
     "name": "stdout",
     "output_type": "stream",
     "text": [
      "-----RANDOM CLASSIFIER-----\n",
      "count of prediction: dict_values([102, 98])\n",
      "probability of prediction: [0.51 0.49]\n",
      "accuracy 0.45\n",
      "percision, recall, fscore, (array([0.54901961, 0.34693878]), array([0.46666667, 0.425     ]), array([0.5045045 , 0.38202247]), array([120,  80], dtype=int64))\n"
     ]
    }
   ],
   "source": [
    "random_classifier(df[\"relevance\"])"
   ]
  },
  {
   "cell_type": "markdown",
   "id": "ceb6a4d1",
   "metadata": {},
   "source": [
    "# Feature Selection"
   ]
  },
  {
   "cell_type": "markdown",
   "id": "0096d11e",
   "metadata": {},
   "source": [
    "https://scikit-learn.org/stable/modules/feature_selection.html#feature-selection"
   ]
  },
  {
   "cell_type": "code",
   "execution_count": 7,
   "id": "dc581b6f",
   "metadata": {},
   "outputs": [],
   "source": [
    "X = df.loc[:, df.columns !=\"relevance\"]\n",
    "Y = df[\"relevance\"]\n"
   ]
  },
  {
   "cell_type": "code",
   "execution_count": 8,
   "id": "8824d4ab",
   "metadata": {},
   "outputs": [],
   "source": [
    "from sklearn.feature_selection import VarianceThreshold\n",
    "\n",
    "sel = VarianceThreshold(threshold=(.05))\n",
    "chosen_x = sel.fit_transform(X)"
   ]
  },
  {
   "cell_type": "code",
   "execution_count": 9,
   "id": "55510295",
   "metadata": {},
   "outputs": [
    {
     "name": "stdout",
     "output_type": "stream",
     "text": [
      "we have following features left after removing los variance words: 38\n",
      "['although' 'amp' 'billion' 'change' 'co' 'day' 'dojo' 'energy' 'future'\n",
      " 'get' 'good' 'green' 'high' 'https' 'inflation' 'life' 'like' 'many'\n",
      " 'mars' 'need' 'needs' 'new' 'nuclear' 'one' 'people' 'power' 'put' 'rare'\n",
      " 'renewable' 'see' 'still' 'think' 'time' 'world' 'would' 'years'\n",
      " 'favorite_count' 'retweet_count']\n"
     ]
    }
   ],
   "source": [
    "print(\"we have following features left after removing los variance words:\",chosen_x.shape[1])\n",
    "concol = sel.get_feature_names_out()\n",
    "print(concol)\n",
    "X = pd.DataFrame(chosen_x, columns = concol)"
   ]
  },
  {
   "cell_type": "markdown",
   "id": "12b23886",
   "metadata": {},
   "source": [
    "Spliting data set"
   ]
  },
  {
   "cell_type": "code",
   "execution_count": 10,
   "id": "e8e03d9d",
   "metadata": {},
   "outputs": [],
   "source": [
    "\n",
    "x_train = X.sample(frac=0.8, axis=0)\n",
    "x_test = X.drop(x_train.index)\n",
    "\n",
    "y_train = Y.iloc[x_train.index]\n",
    "y_test = Y.drop(x_train.index)"
   ]
  },
  {
   "cell_type": "markdown",
   "id": "2a2bcbd0",
   "metadata": {},
   "source": [
    "# Model Tuning"
   ]
  },
  {
   "cell_type": "code",
   "execution_count": 11,
   "id": "7c642e7c",
   "metadata": {},
   "outputs": [
    {
     "name": "stdout",
     "output_type": "stream",
     "text": [
      "[0.6, 1.0, 0.0]\n",
      "[0.6125, 1.0, 0.03125]\n"
     ]
    }
   ],
   "source": [
    "#Base Line:\n",
    "\n",
    "SVM = SVC()\n",
    "model = SVM.fit(x_train,y_train)\n",
    "\n",
    "yp_train=model.predict(x_train)\n",
    "yp_test=model.predict(x_test)\n",
    "\n",
    "# print(y_pred.shape)\n",
    "print([accuracy_score(y_test, yp_test),recall_score(y_test, yp_test,pos_label=0),recall_score(y_test, yp_test,pos_label=1)])\n",
    "print([accuracy_score(y_train, yp_train),recall_score(y_train, yp_train,pos_label=0),recall_score(y_train, yp_train,pos_label=1)])"
   ]
  },
  {
   "cell_type": "markdown",
   "id": "194ee941",
   "metadata": {},
   "source": [
    "The above is bad, having 0 recall for label =1 in test. True pos/actual pos."
   ]
  },
  {
   "cell_type": "code",
   "execution_count": 12,
   "id": "71f6b6fb",
   "metadata": {},
   "outputs": [
    {
     "name": "stdout",
     "output_type": "stream",
     "text": [
      "Fitting 5 folds for each of 20 candidates, totalling 100 fits\n",
      "[CV 1/5] END ............gamma=1, kernel=linear;, score=0.688 total time=   0.0s\n",
      "[CV 2/5] END ............gamma=1, kernel=linear;, score=0.719 total time=   0.0s\n",
      "[CV 3/5] END ............gamma=1, kernel=linear;, score=0.781 total time=   0.0s\n",
      "[CV 4/5] END ............gamma=1, kernel=linear;, score=0.875 total time=   0.0s\n",
      "[CV 5/5] END ............gamma=1, kernel=linear;, score=0.812 total time=   0.0s\n",
      "[CV 1/5] END ..............gamma=1, kernel=poly;, score=0.750 total time=   0.0s\n",
      "[CV 2/5] END ..............gamma=1, kernel=poly;, score=0.719 total time=   0.0s\n",
      "[CV 3/5] END ..............gamma=1, kernel=poly;, score=0.719 total time=   0.0s\n",
      "[CV 4/5] END ..............gamma=1, kernel=poly;, score=0.812 total time=   0.0s\n",
      "[CV 5/5] END ..............gamma=1, kernel=poly;, score=0.875 total time=   0.0s\n",
      "[CV 1/5] END ...............gamma=1, kernel=rbf;, score=0.781 total time=   0.0s\n",
      "[CV 2/5] END ...............gamma=1, kernel=rbf;, score=0.688 total time=   0.0s\n",
      "[CV 3/5] END ...............gamma=1, kernel=rbf;, score=0.781 total time=   0.0s\n",
      "[CV 4/5] END ...............gamma=1, kernel=rbf;, score=0.625 total time=   0.0s\n",
      "[CV 5/5] END ...............gamma=1, kernel=rbf;, score=0.719 total time=   0.0s\n",
      "[CV 1/5] END ...........gamma=1, kernel=sigmoid;, score=0.562 total time=   0.0s\n",
      "[CV 2/5] END ...........gamma=1, kernel=sigmoid;, score=0.562 total time=   0.0s\n",
      "[CV 3/5] END ...........gamma=1, kernel=sigmoid;, score=0.562 total time=   0.0s\n",
      "[CV 4/5] END ...........gamma=1, kernel=sigmoid;, score=0.562 total time=   0.0s\n",
      "[CV 5/5] END ...........gamma=1, kernel=sigmoid;, score=0.594 total time=   0.0s\n",
      "[CV 1/5] END ..........gamma=0.1, kernel=linear;, score=0.688 total time=   0.0s\n",
      "[CV 2/5] END ..........gamma=0.1, kernel=linear;, score=0.719 total time=   0.0s\n",
      "[CV 3/5] END ..........gamma=0.1, kernel=linear;, score=0.781 total time=   0.0s\n",
      "[CV 4/5] END ..........gamma=0.1, kernel=linear;, score=0.875 total time=   0.0s\n",
      "[CV 5/5] END ..........gamma=0.1, kernel=linear;, score=0.812 total time=   0.0s\n",
      "[CV 1/5] END ............gamma=0.1, kernel=poly;, score=0.750 total time=   0.0s\n",
      "[CV 2/5] END ............gamma=0.1, kernel=poly;, score=0.719 total time=   0.0s\n",
      "[CV 3/5] END ............gamma=0.1, kernel=poly;, score=0.719 total time=   0.0s\n",
      "[CV 4/5] END ............gamma=0.1, kernel=poly;, score=0.750 total time=   0.0s\n",
      "[CV 5/5] END ............gamma=0.1, kernel=poly;, score=0.781 total time=   0.0s\n",
      "[CV 1/5] END .............gamma=0.1, kernel=rbf;, score=0.719 total time=   0.0s\n",
      "[CV 2/5] END .............gamma=0.1, kernel=rbf;, score=0.719 total time=   0.0s\n",
      "[CV 3/5] END .............gamma=0.1, kernel=rbf;, score=0.781 total time=   0.0s\n",
      "[CV 4/5] END .............gamma=0.1, kernel=rbf;, score=0.719 total time=   0.0s\n",
      "[CV 5/5] END .............gamma=0.1, kernel=rbf;, score=0.750 total time=   0.0s\n",
      "[CV 1/5] END .........gamma=0.1, kernel=sigmoid;, score=0.594 total time=   0.0s\n",
      "[CV 2/5] END .........gamma=0.1, kernel=sigmoid;, score=0.688 total time=   0.0s\n",
      "[CV 3/5] END .........gamma=0.1, kernel=sigmoid;, score=0.719 total time=   0.0s\n",
      "[CV 4/5] END .........gamma=0.1, kernel=sigmoid;, score=0.656 total time=   0.0s\n",
      "[CV 5/5] END .........gamma=0.1, kernel=sigmoid;, score=0.656 total time=   0.0s\n",
      "[CV 1/5] END .........gamma=0.01, kernel=linear;, score=0.688 total time=   0.0s\n",
      "[CV 2/5] END .........gamma=0.01, kernel=linear;, score=0.719 total time=   0.0s\n",
      "[CV 3/5] END .........gamma=0.01, kernel=linear;, score=0.781 total time=   0.0s\n",
      "[CV 4/5] END .........gamma=0.01, kernel=linear;, score=0.875 total time=   0.0s\n",
      "[CV 5/5] END .........gamma=0.01, kernel=linear;, score=0.812 total time=   0.0s\n",
      "[CV 1/5] END ...........gamma=0.01, kernel=poly;, score=0.625 total time=   0.0s\n",
      "[CV 2/5] END ...........gamma=0.01, kernel=poly;, score=0.594 total time=   0.0s\n",
      "[CV 3/5] END ...........gamma=0.01, kernel=poly;, score=0.594 total time=   0.0s\n",
      "[CV 4/5] END ...........gamma=0.01, kernel=poly;, score=0.625 total time=   0.0s\n",
      "[CV 5/5] END ...........gamma=0.01, kernel=poly;, score=0.594 total time=   0.0s\n",
      "[CV 1/5] END ............gamma=0.01, kernel=rbf;, score=0.719 total time=   0.0s\n",
      "[CV 2/5] END ............gamma=0.01, kernel=rbf;, score=0.688 total time=   0.0s\n",
      "[CV 3/5] END ............gamma=0.01, kernel=rbf;, score=0.719 total time=   0.0s\n",
      "[CV 4/5] END ............gamma=0.01, kernel=rbf;, score=0.656 total time=   0.0s\n",
      "[CV 5/5] END ............gamma=0.01, kernel=rbf;, score=0.719 total time=   0.0s\n",
      "[CV 1/5] END ........gamma=0.01, kernel=sigmoid;, score=0.594 total time=   0.0s\n",
      "[CV 2/5] END ........gamma=0.01, kernel=sigmoid;, score=0.688 total time=   0.0s\n",
      "[CV 3/5] END ........gamma=0.01, kernel=sigmoid;, score=0.406 total time=   0.0s\n",
      "[CV 4/5] END ........gamma=0.01, kernel=sigmoid;, score=0.625 total time=   0.0s\n",
      "[CV 5/5] END ........gamma=0.01, kernel=sigmoid;, score=0.531 total time=   0.0s\n",
      "[CV 1/5] END ........gamma=0.001, kernel=linear;, score=0.688 total time=   0.0s\n",
      "[CV 2/5] END ........gamma=0.001, kernel=linear;, score=0.719 total time=   0.0s\n",
      "[CV 3/5] END ........gamma=0.001, kernel=linear;, score=0.781 total time=   0.0s\n",
      "[CV 4/5] END ........gamma=0.001, kernel=linear;, score=0.875 total time=   0.0s\n",
      "[CV 5/5] END ........gamma=0.001, kernel=linear;, score=0.812 total time=   0.0s\n",
      "[CV 1/5] END ..........gamma=0.001, kernel=poly;, score=0.625 total time=   0.0s\n",
      "[CV 2/5] END ..........gamma=0.001, kernel=poly;, score=0.594 total time=   0.0s\n",
      "[CV 3/5] END ..........gamma=0.001, kernel=poly;, score=0.594 total time=   0.0s\n",
      "[CV 4/5] END ..........gamma=0.001, kernel=poly;, score=0.594 total time=   0.0s\n",
      "[CV 5/5] END ..........gamma=0.001, kernel=poly;, score=0.594 total time=   0.0s\n",
      "[CV 1/5] END ...........gamma=0.001, kernel=rbf;, score=0.625 total time=   0.0s\n",
      "[CV 2/5] END ...........gamma=0.001, kernel=rbf;, score=0.594 total time=   0.0s\n",
      "[CV 3/5] END ...........gamma=0.001, kernel=rbf;, score=0.594 total time=   0.0s\n",
      "[CV 4/5] END ...........gamma=0.001, kernel=rbf;, score=0.594 total time=   0.0s\n",
      "[CV 5/5] END ...........gamma=0.001, kernel=rbf;, score=0.594 total time=   0.0s\n",
      "[CV 1/5] END .......gamma=0.001, kernel=sigmoid;, score=0.594 total time=   0.0s\n",
      "[CV 2/5] END .......gamma=0.001, kernel=sigmoid;, score=0.594 total time=   0.0s\n",
      "[CV 3/5] END .......gamma=0.001, kernel=sigmoid;, score=0.500 total time=   0.0s\n",
      "[CV 4/5] END .......gamma=0.001, kernel=sigmoid;, score=0.594 total time=   0.0s\n",
      "[CV 5/5] END .......gamma=0.001, kernel=sigmoid;, score=0.625 total time=   0.0s\n",
      "[CV 1/5] END .......gamma=0.0001, kernel=linear;, score=0.688 total time=   0.0s\n",
      "[CV 2/5] END .......gamma=0.0001, kernel=linear;, score=0.719 total time=   0.0s\n",
      "[CV 3/5] END .......gamma=0.0001, kernel=linear;, score=0.781 total time=   0.0s\n",
      "[CV 4/5] END .......gamma=0.0001, kernel=linear;, score=0.875 total time=   0.0s\n",
      "[CV 5/5] END .......gamma=0.0001, kernel=linear;, score=0.812 total time=   0.0s\n",
      "[CV 1/5] END .........gamma=0.0001, kernel=poly;, score=0.625 total time=   0.0s\n",
      "[CV 2/5] END .........gamma=0.0001, kernel=poly;, score=0.625 total time=   0.0s\n",
      "[CV 3/5] END .........gamma=0.0001, kernel=poly;, score=0.594 total time=   0.0s\n",
      "[CV 4/5] END .........gamma=0.0001, kernel=poly;, score=0.594 total time=   0.0s\n",
      "[CV 5/5] END .........gamma=0.0001, kernel=poly;, score=0.594 total time=   0.0s\n",
      "[CV 1/5] END ..........gamma=0.0001, kernel=rbf;, score=0.625 total time=   0.0s\n",
      "[CV 2/5] END ..........gamma=0.0001, kernel=rbf;, score=0.594 total time=   0.0s\n",
      "[CV 3/5] END ..........gamma=0.0001, kernel=rbf;, score=0.594 total time=   0.0s\n",
      "[CV 4/5] END ..........gamma=0.0001, kernel=rbf;, score=0.594 total time=   0.0s\n",
      "[CV 5/5] END ..........gamma=0.0001, kernel=rbf;, score=0.594 total time=   0.0s\n",
      "[CV 1/5] END ......gamma=0.0001, kernel=sigmoid;, score=0.625 total time=   0.0s\n",
      "[CV 2/5] END ......gamma=0.0001, kernel=sigmoid;, score=0.594 total time=   0.0s\n",
      "[CV 3/5] END ......gamma=0.0001, kernel=sigmoid;, score=0.594 total time=   0.0s\n",
      "[CV 4/5] END ......gamma=0.0001, kernel=sigmoid;, score=0.594 total time=   0.0s\n",
      "[CV 5/5] END ......gamma=0.0001, kernel=sigmoid;, score=0.594 total time=   0.0s\n"
     ]
    },
    {
     "data": {
      "text/plain": [
       "GridSearchCV(estimator=SVC(),\n",
       "             param_grid={'gamma': [1, 0.1, 0.01, 0.001, 0.0001],\n",
       "                         'kernel': ['linear', 'poly', 'rbf', 'sigmoid']},\n",
       "             verbose=3)"
      ]
     },
     "execution_count": 12,
     "metadata": {},
     "output_type": "execute_result"
    }
   ],
   "source": [
    "from sklearn.model_selection import GridSearchCV\n",
    "  \n",
    "# defining parameter range\n",
    "param_grid = {\n",
    "              'gamma': [1, 0.1, 0.01, 0.001, 0.0001],\n",
    "              'kernel': ['linear', 'poly', 'rbf', 'sigmoid']} \n",
    "  \n",
    "grid = GridSearchCV(SVC(), param_grid, refit = True, verbose = 3)\n",
    "  \n",
    "# fitting the model for grid search\n",
    "grid.fit(x_train, y_train)"
   ]
  },
  {
   "cell_type": "code",
   "execution_count": 13,
   "id": "1a5442ae",
   "metadata": {},
   "outputs": [],
   "source": [
    "pa = grid.cv_results_['params']"
   ]
  },
  {
   "cell_type": "code",
   "execution_count": 14,
   "id": "83a713de",
   "metadata": {},
   "outputs": [
    {
     "data": {
      "text/plain": [
       "{'mean_fit_time': array([0.00280042, 0.00220022, 0.00140033, 0.00120029, 0.00220032,\n",
       "        0.00140004, 0.00200047, 0.00120034, 0.00260048, 0.00159817,\n",
       "        0.00181932, 0.00140028, 0.00260038, 0.00160041, 0.00140038,\n",
       "        0.00140018, 0.00260062, 0.0017839 , 0.00160041, 0.00160036]),\n",
       " 'std_fit_time': array([4.00042658e-04, 4.00018962e-04, 4.89706854e-04, 4.00137940e-04,\n",
       "        4.00090342e-04, 4.90037718e-04, 1.16800773e-07, 4.00114102e-04,\n",
       "        4.89726234e-04, 4.88476588e-04, 4.11327079e-04, 4.90037718e-04,\n",
       "        4.89940432e-04, 4.90193390e-04, 4.90057140e-04, 4.90212913e-04,\n",
       "        4.89940432e-04, 3.93170075e-04, 4.89998745e-04, 4.89765121e-04]),\n",
       " 'mean_score_time': array([0.0010004 , 0.0010005 , 0.00120029, 0.00100021, 0.00100031,\n",
       "        0.0010004 , 0.00100021, 0.00100021, 0.00080028, 0.00080247,\n",
       "        0.00099907, 0.00060019, 0.0010004 , 0.00080023, 0.00100026,\n",
       "        0.00080013, 0.00080004, 0.00079942, 0.00100021, 0.00080018]),\n",
       " 'std_score_time': array([2.13248060e-07, 2.43140197e-07, 4.00257224e-04, 9.53674316e-08,\n",
       "        1.90734863e-07, 0.00000000e+00, 2.33601546e-07, 2.78041453e-07,\n",
       "        4.00137997e-04, 4.01257474e-04, 2.31940966e-06, 4.90057140e-04,\n",
       "        3.01578299e-07, 4.00114074e-04, 1.90734863e-07, 4.00066376e-04,\n",
       "        4.00018706e-04, 3.99711148e-04, 1.78416128e-07, 4.00090285e-04]),\n",
       " 'param_gamma': masked_array(data=[1, 1, 1, 1, 0.1, 0.1, 0.1, 0.1, 0.01, 0.01, 0.01, 0.01,\n",
       "                    0.001, 0.001, 0.001, 0.001, 0.0001, 0.0001, 0.0001,\n",
       "                    0.0001],\n",
       "              mask=[False, False, False, False, False, False, False, False,\n",
       "                    False, False, False, False, False, False, False, False,\n",
       "                    False, False, False, False],\n",
       "        fill_value='?',\n",
       "             dtype=object),\n",
       " 'param_kernel': masked_array(data=['linear', 'poly', 'rbf', 'sigmoid', 'linear', 'poly',\n",
       "                    'rbf', 'sigmoid', 'linear', 'poly', 'rbf', 'sigmoid',\n",
       "                    'linear', 'poly', 'rbf', 'sigmoid', 'linear', 'poly',\n",
       "                    'rbf', 'sigmoid'],\n",
       "              mask=[False, False, False, False, False, False, False, False,\n",
       "                    False, False, False, False, False, False, False, False,\n",
       "                    False, False, False, False],\n",
       "        fill_value='?',\n",
       "             dtype=object),\n",
       " 'params': [{'gamma': 1, 'kernel': 'linear'},\n",
       "  {'gamma': 1, 'kernel': 'poly'},\n",
       "  {'gamma': 1, 'kernel': 'rbf'},\n",
       "  {'gamma': 1, 'kernel': 'sigmoid'},\n",
       "  {'gamma': 0.1, 'kernel': 'linear'},\n",
       "  {'gamma': 0.1, 'kernel': 'poly'},\n",
       "  {'gamma': 0.1, 'kernel': 'rbf'},\n",
       "  {'gamma': 0.1, 'kernel': 'sigmoid'},\n",
       "  {'gamma': 0.01, 'kernel': 'linear'},\n",
       "  {'gamma': 0.01, 'kernel': 'poly'},\n",
       "  {'gamma': 0.01, 'kernel': 'rbf'},\n",
       "  {'gamma': 0.01, 'kernel': 'sigmoid'},\n",
       "  {'gamma': 0.001, 'kernel': 'linear'},\n",
       "  {'gamma': 0.001, 'kernel': 'poly'},\n",
       "  {'gamma': 0.001, 'kernel': 'rbf'},\n",
       "  {'gamma': 0.001, 'kernel': 'sigmoid'},\n",
       "  {'gamma': 0.0001, 'kernel': 'linear'},\n",
       "  {'gamma': 0.0001, 'kernel': 'poly'},\n",
       "  {'gamma': 0.0001, 'kernel': 'rbf'},\n",
       "  {'gamma': 0.0001, 'kernel': 'sigmoid'}],\n",
       " 'split0_test_score': array([0.6875 , 0.75   , 0.78125, 0.5625 , 0.6875 , 0.75   , 0.71875,\n",
       "        0.59375, 0.6875 , 0.625  , 0.71875, 0.59375, 0.6875 , 0.625  ,\n",
       "        0.625  , 0.59375, 0.6875 , 0.625  , 0.625  , 0.625  ]),\n",
       " 'split1_test_score': array([0.71875, 0.71875, 0.6875 , 0.5625 , 0.71875, 0.71875, 0.71875,\n",
       "        0.6875 , 0.71875, 0.59375, 0.6875 , 0.6875 , 0.71875, 0.59375,\n",
       "        0.59375, 0.59375, 0.71875, 0.625  , 0.59375, 0.59375]),\n",
       " 'split2_test_score': array([0.78125, 0.71875, 0.78125, 0.5625 , 0.78125, 0.71875, 0.78125,\n",
       "        0.71875, 0.78125, 0.59375, 0.71875, 0.40625, 0.78125, 0.59375,\n",
       "        0.59375, 0.5    , 0.78125, 0.59375, 0.59375, 0.59375]),\n",
       " 'split3_test_score': array([0.875  , 0.8125 , 0.625  , 0.5625 , 0.875  , 0.75   , 0.71875,\n",
       "        0.65625, 0.875  , 0.625  , 0.65625, 0.625  , 0.875  , 0.59375,\n",
       "        0.59375, 0.59375, 0.875  , 0.59375, 0.59375, 0.59375]),\n",
       " 'split4_test_score': array([0.8125 , 0.875  , 0.71875, 0.59375, 0.8125 , 0.78125, 0.75   ,\n",
       "        0.65625, 0.8125 , 0.59375, 0.71875, 0.53125, 0.8125 , 0.59375,\n",
       "        0.59375, 0.625  , 0.8125 , 0.59375, 0.59375, 0.59375]),\n",
       " 'mean_test_score': array([0.775  , 0.775  , 0.71875, 0.56875, 0.775  , 0.74375, 0.7375 ,\n",
       "        0.6625 , 0.775  , 0.60625, 0.7    , 0.56875, 0.775  , 0.6    ,\n",
       "        0.6    , 0.58125, 0.775  , 0.60625, 0.6    , 0.6    ]),\n",
       " 'std_test_score': array([0.06673174, 0.060596  , 0.05929271, 0.0125    , 0.06673174,\n",
       "        0.02338536, 0.025     , 0.04145781, 0.06673174, 0.01530931,\n",
       "        0.025     , 0.09560662, 0.06673174, 0.0125    , 0.0125    ,\n",
       "        0.04238956, 0.06673174, 0.01530931, 0.0125    , 0.0125    ]),\n",
       " 'rank_test_score': array([ 1,  1,  9, 19,  1,  7,  8, 11,  1, 12, 10, 19,  1, 14, 14, 18,  1,\n",
       "        12, 14, 14])}"
      ]
     },
     "execution_count": 14,
     "metadata": {},
     "output_type": "execute_result"
    }
   ],
   "source": [
    "grid.cv_results_"
   ]
  },
  {
   "cell_type": "code",
   "execution_count": 15,
   "id": "2ba53692",
   "metadata": {},
   "outputs": [
    {
     "name": "stdout",
     "output_type": "stream",
     "text": [
      "{'gamma': 1, 'kernel': 'linear'}\n",
      "SVC(gamma=1, kernel='linear')\n"
     ]
    }
   ],
   "source": [
    "# print best parameter after tuning\n",
    "print(grid.best_params_)\n",
    "  \n",
    "# print how our model looks after hyper-parameter tuning\n",
    "print(grid.best_estimator_)"
   ]
  },
  {
   "cell_type": "code",
   "execution_count": 18,
   "id": "d48f36ff",
   "metadata": {},
   "outputs": [],
   "source": [
    "test_results=[]\n",
    "train_results=[]\n",
    "\n",
    "# kernel = ['linear', 'poly', 'rbf', 'sigmoid']\n",
    "gamma = np.linspace(0.0001,1,20)\n",
    "\n",
    "for i in range(len(gamma)):\n",
    "    SVM = SVC(gamma = gamma[i])\n",
    "    model = SVM.fit(x_train,y_train)\n",
    "\n",
    "    yp_train=model.predict(x_train)\n",
    "    yp_test=model.predict(x_test)\n",
    "\n",
    "    # print(y_pred.shape)\n",
    "    test_results.append([pa[i],accuracy_score(y_test, yp_test),recall_score(y_test, yp_test,pos_label=0),recall_score(y_test, yp_test,pos_label=1)])\n",
    "    train_results.append([pa[i],accuracy_score(y_train, yp_train),recall_score(y_train, yp_train,pos_label=0),recall_score(y_train, yp_train,pos_label=1)])"
   ]
  },
  {
   "cell_type": "code",
   "execution_count": 19,
   "id": "2cda364d",
   "metadata": {},
   "outputs": [],
   "source": [
    "test_results = np.array(test_results)\n",
    "train_results = np.array(train_results)"
   ]
  },
  {
   "cell_type": "code",
   "execution_count": 20,
   "id": "8f5b20bf",
   "metadata": {},
   "outputs": [
    {
     "data": {
<<<<<<< HEAD
      "image/png": "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",
=======
      "image/png": "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\n",
>>>>>>> 13c88c946d211830463037f596323e5510e1aecd
      "text/plain": [
       "<Figure size 432x288 with 1 Axes>"
      ]
     },
     "metadata": {
      "needs_background": "light"
     },
     "output_type": "display_data"
    },
    {
     "data": {
<<<<<<< HEAD
      "image/png": "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",
=======
      "image/png": "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\n",
>>>>>>> 13c88c946d211830463037f596323e5510e1aecd
      "text/plain": [
       "<Figure size 432x288 with 1 Axes>"
      ]
     },
     "metadata": {
      "needs_background": "light"
     },
     "output_type": "display_data"
    },
    {
     "data": {
<<<<<<< HEAD
      "image/png": "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",
=======
      "image/png": "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\n",
>>>>>>> 13c88c946d211830463037f596323e5510e1aecd
      "text/plain": [
       "<Figure size 432x288 with 1 Axes>"
      ]
     },
     "metadata": {
      "needs_background": "light"
     },
     "output_type": "display_data"
    }
   ],
   "source": [
    "x_axis = gamma\n",
    "fig = plt.figure()\n",
    "ax1 = fig.add_subplot(111)\n",
    "\n",
    "ax1.plot(x_axis,train_results[:,1], c=\"b\", marker='o',label = \"train\" )\n",
    "ax1.plot(x_axis,test_results[:,1], c=\"r\", marker='o',label = \"test\" )\n",
    "plt.xlabel(\"parameter type used\")\n",
    "plt.ylabel(\"Accuracy: Training (blue) and Test (red)\")\n",
    "plt.legend()\n",
    "plt.show()\n",
    "\n",
    "fig = plt.figure()\n",
    "ax1 = fig.add_subplot(111)\n",
    "\n",
    "ax1.plot(x_axis,train_results[:,2], c=\"b\", marker='o',label = \"train\" )\n",
    "ax1.plot(x_axis,test_results[:,2], c=\"r\", marker='o',label = \"test\" )\n",
    "plt.xlabel(\"parameter type used\")\n",
    "plt.ylabel(\"Recall (Y=0): Training (blue) and Test (red)\")\n",
    "plt.legend()\n",
    "plt.show()\n",
    "\n",
    "fig = plt.figure()\n",
    "ax3 = fig.add_subplot(111)\n",
    "\n",
    "ax3.plot(x_axis,train_results[:,3], c=\"b\", marker='o',label = \"train\" )\n",
    "ax3.plot(x_axis,test_results[:,3], c=\"r\", marker='o',label = \"test\" )\n",
    "plt.xlabel(\"parameter type used\")\n",
    "plt.ylabel(\"Recall (Y=1): Training (blue) and Test (red)\")\n",
    "plt.legend()\n",
    "plt.show()"
   ]
  },
  {
   "cell_type": "markdown",
   "id": "bedd1a2e",
   "metadata": {},
   "source": [
    "Any where after 0.5 would work. "
   ]
  },
  {
   "cell_type": "markdown",
   "id": "ef53f7fe",
   "metadata": {},
   "source": [
    "# Final Results"
   ]
  },
  {
   "cell_type": "code",
   "execution_count": 21,
   "id": "367ad54e",
   "metadata": {},
   "outputs": [],
   "source": [
    "def confusion_plot(y_data,y_pred):\n",
    "  print(\"ACCURACY:\",accuracy_score(y_data, y_pred) )\n",
    "  print(\"NEGATIVE RECALL (Y=0):\", recall_score(y_data, y_pred, pos_label= 0))\n",
    "  print(\"NEGATIVE PRECISION (Y=0):\", precision_score(y_data, y_pred, pos_label= 0))\n",
    "  print(\"POSITIVE RECALL (Y=1):\", recall_score(y_data, y_pred, pos_label= 1))\n",
    "  print(\"POSITIVE PRECISION (Y=1):\", precision_score(y_data, y_pred, pos_label= 1))\n",
    "  \n",
    "  cm = confusion_matrix(y_data, y_pred, labels=model.classes_)\n",
    "  disp = ConfusionMatrixDisplay(confusion_matrix=cm,display_labels=model.classes_)\n",
    "  print(cm)\n",
    "\n",
    "  disp.plot()\n",
    "  plt.show()"
   ]
  },
  {
   "cell_type": "code",
   "execution_count": 22,
   "id": "151266c3",
   "metadata": {},
   "outputs": [
    {
     "name": "stdout",
     "output_type": "stream",
     "text": [
      "------TRAINING------\n",
      "ACCURACY: 0.9625\n",
      "NEGATIVE RECALL (Y=0): 1.0\n",
      "NEGATIVE PRECISION (Y=0): 0.9411764705882353\n",
      "POSITIVE RECALL (Y=1): 0.90625\n",
      "POSITIVE PRECISION (Y=1): 1.0\n",
      "[[96  0]\n",
      " [ 6 58]]\n"
     ]
    },
    {
     "data": {
<<<<<<< HEAD
      "image/png": "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",
=======
      "image/png": "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\n",
>>>>>>> 13c88c946d211830463037f596323e5510e1aecd
      "text/plain": [
       "<Figure size 432x288 with 2 Axes>"
      ]
     },
     "metadata": {
      "needs_background": "light"
     },
     "output_type": "display_data"
    },
    {
     "name": "stdout",
     "output_type": "stream",
     "text": [
      "------TEST------\n",
      "ACCURACY: 0.65\n",
      "NEGATIVE RECALL (Y=0): 0.9583333333333334\n",
      "NEGATIVE PRECISION (Y=0): 0.6388888888888888\n",
      "POSITIVE RECALL (Y=1): 0.1875\n",
      "POSITIVE PRECISION (Y=1): 0.75\n",
      "[[23  1]\n",
      " [13  3]]\n"
     ]
    },
    {
     "data": {
<<<<<<< HEAD
      "image/png": "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",
=======
      "image/png": "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\n",
>>>>>>> 13c88c946d211830463037f596323e5510e1aecd
      "text/plain": [
       "<Figure size 432x288 with 2 Axes>"
      ]
     },
     "metadata": {
      "needs_background": "light"
     },
     "output_type": "display_data"
    }
   ],
   "source": [
    "# Using the parameter of 15\n",
    "gamma = 0.6\n",
    "SVM = SVC(gamma = gamma)\n",
    "model = SVM.fit(x_train,y_train)\n",
    "\n",
    "yp_train=model.predict(x_train)\n",
    "yp_test=model.predict(x_test)\n",
    "\n",
    "print(\"------TRAINING------\")\n",
    "confusion_plot(y_train,yp_train)\n",
    "print(\"------TEST------\")\n",
    "confusion_plot(y_test,yp_test)"
   ]
  },
  {
   "cell_type": "markdown",
   "id": "d98a0e22",
   "metadata": {},
   "source": [
    "slight bit of overfitting"
   ]
  },
  {
   "cell_type": "markdown",
   "id": "ad42afc5",
   "metadata": {},
   "source": [
    "# Conclusion"
   ]
  },
  {
   "cell_type": "markdown",
   "id": "1d41d94a",
   "metadata": {},
   "source": [
    "We can see from the results of the final confusion matrix that there is some overfitting. This depends on the kernel we chose, because we did not set kernel and C when we set parameters, just gamma. We might get better results if we set the kernel to linear or something else."
   ]
  },
  {
   "cell_type": "markdown",
   "id": "106e6bea",
   "metadata": {},
   "source": [
    "In addition, the results are not very good, perhaps because our data volume is too small, only hundreds of tweets. If we have a larger amount of data, the effect of SVM may be better."
   ]
  },
  {
   "cell_type": "markdown",
   "id": "5d71e578",
   "metadata": {},
   "source": [
    "Nevertheless, we can see that SVM still has a high value for solving such problems, but we need to make some improvements on it in the future, especially in terms of parameters. Finding more suitable parameters for this problem may produce excellent results."
   ]
<<<<<<< HEAD
=======
  },
  {
   "cell_type": "code",
   "execution_count": 23,
   "id": "8eb0b05e",
   "metadata": {},
   "outputs": [
    {
     "name": "stderr",
     "output_type": "stream",
     "text": [
      "Converted to homework_4_SVM.qmd\n"
     ]
    }
   ],
   "source": [
    "!quarto convert homework_4_SVM.ipynb"
   ]
  },
  {
   "cell_type": "code",
   "execution_count": null,
   "id": "56b7e464",
   "metadata": {},
   "outputs": [],
   "source": []
>>>>>>> 13c88c946d211830463037f596323e5510e1aecd
  }
 ],
 "metadata": {
  "kernelspec": {
<<<<<<< HEAD
   "display_name": "Python 3.9.12 ('base')",
=======
   "display_name": "Python 3 (ipykernel)",
>>>>>>> 13c88c946d211830463037f596323e5510e1aecd
   "language": "python",
   "name": "python3"
  },
  "language_info": {
   "codemirror_mode": {
    "name": "ipython",
    "version": 3
   },
   "file_extension": ".py",
   "mimetype": "text/x-python",
   "name": "python",
   "nbconvert_exporter": "python",
   "pygments_lexer": "ipython3",
   "version": "3.9.12"
<<<<<<< HEAD
  },
  "vscode": {
   "interpreter": {
    "hash": "60f4bc649a951bd8c390049c64cc8fcfdb77491a2902b0ec7f17d3f18f74befa"
   }
=======
>>>>>>> 13c88c946d211830463037f596323e5510e1aecd
  }
 },
 "nbformat": 4,
 "nbformat_minor": 5
}
