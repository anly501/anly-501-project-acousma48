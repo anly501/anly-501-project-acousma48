{
  "cells": [
    {
      "cell_type": "markdown",
      "metadata": {},
      "source": [
        "# Methods\n",
        "\n",
        "Decision Tree is a machine learning classification method. Because it is a tree structure, it is called a decision tree. Each internal node makes an attribute judgment once, each branch represents the output of the judgment result, and finally, each leaf node represents the classification result.\n",
        "\n",
        "The following figure shows a typical example of a decision tree.\n",
        "\n",
        "![jupyter](./decision_Tree.png)\n",
        "\n",
        "From the example, we can see that the decision tree has a good visualization effect and can be clearly accepted and understood by people. Secondly, decision tree can process not only classified data but also record data, while most other methods can only deal with single variable data. Finally, decision trees can deal with multiple output problems. These are the advantages of decision trees.\n",
        "\n",
        "Decision trees also have some disadvantages, such as being prone to overfitting. In addition, decision trees are not particularly stable because subtle changes in the data can lead to completely different \"branches\" being generated.\n"
      ],
      "id": "98b69e60"
    },
    {
      "cell_type": "code",
      "metadata": {},
      "source": [
        "import pandas as pd\n",
        "import seaborn as sns \n",
        "import matplotlib.pyplot as plt\n",
        "from sklearn import tree\n",
        "from IPython.display import Image\n",
        "import numpy as np\n",
        "from sklearn.metrics import accuracy_score\n",
        "from sklearn.metrics import precision_score\n",
        "from sklearn.metrics import recall_score\n",
        "from collections import Counter\n",
        "from sklearn.metrics import precision_recall_fscore_support\n",
        "from sklearn.feature_extraction.text import CountVectorizer\n",
        "from sklearn.metrics import confusion_matrix,accuracy_score,precision_score, recall_score, ConfusionMatrixDisplay"
      ],
      "id": "fce79c5e",
      "execution_count": null,
      "outputs": []
    },
    {
      "cell_type": "markdown",
      "metadata": {},
      "source": [
        "# Class Distribution\n"
      ],
      "id": "4d9d66bc"
    },
    {
      "cell_type": "code",
      "metadata": {},
      "source": [
        "df = pd.read_csv(\"twitter_data_clean.csv\")\n",
        "df.rename({\"Whether the relevant\": \"relevance\"}, axis =1, inplace = True)"
      ],
      "id": "e8d8ebcb",
      "execution_count": null,
      "outputs": []
    },
    {
      "cell_type": "code",
      "metadata": {},
      "source": [
        "df.head()"
      ],
      "id": "764cd292",
      "execution_count": null,
      "outputs": []
    },
    {
      "cell_type": "markdown",
      "metadata": {},
      "source": [
        "Transforming into record data using CountVectorizer. This will convert our text into words with frequency.\n"
      ],
      "id": "0c4ada7b"
    },
    {
      "cell_type": "code",
      "metadata": {},
      "source": [
        "vectorizer = CountVectorizer()\n",
        " \n",
        "vectorizer.fit(df[\"text\"])\n",
        "temp = vectorizer.transform(df[\"text\"])\n",
        "\n",
        "bag_of_words = pd.DataFrame(temp.toarray(), columns = vectorizer.get_feature_names())"
      ],
      "id": "186e4644",
      "execution_count": null,
      "outputs": []
    },
    {
      "cell_type": "code",
      "metadata": {},
      "source": [
        "bag_of_words.shape"
      ],
      "id": "243fed3e",
      "execution_count": null,
      "outputs": []
    },
    {
      "cell_type": "code",
      "metadata": {},
      "source": [
        "df = pd.concat([bag_of_words,df], axis =1)"
      ],
      "id": "b9d9c154",
      "execution_count": null,
      "outputs": []
    },
    {
      "cell_type": "code",
      "metadata": {},
      "source": [
        "df.drop(columns=[\"text\",\"created_at\"], inplace = True)\n",
        "df.head()"
      ],
      "id": "58b1454b",
      "execution_count": null,
      "outputs": []
    },
    {
      "cell_type": "code",
      "metadata": {},
      "source": [
        "print(\"shape of the vectorized data\", df.shape)"
      ],
      "id": "929c224b",
      "execution_count": null,
      "outputs": []
    },
    {
      "cell_type": "code",
      "metadata": {},
      "source": [
        "num_0 = df[\"relevance\"].value_counts()[0]\n",
        "num_1 = df[\"relevance\"].value_counts()[1]\n",
        "print(\"Number of points with target=0:\", num_0, num_0/(num_0+num_1)*100, \"%\")\n",
        "print(\"Number of points with target=1:\", num_1, num_1/(num_0+num_1)*100, \"%\")"
      ],
      "id": "d3e48ccf",
      "execution_count": null,
      "outputs": []
    },
    {
      "cell_type": "markdown",
      "metadata": {},
      "source": [
        "We use vectorizer to convert text data into numerical values for processing.\n",
        "\n",
        "# baseline model for comparison\n"
      ],
      "id": "e958e484"
    },
    {
      "cell_type": "code",
      "metadata": {},
      "source": [
        "## RANDOM CLASSIFIER \n",
        "def random_classifier(y_data):\n",
        "    ypred=[];\n",
        "    max_label=np.max(y_data); #print(max_label)\n",
        "    for i in range(0,len(y_data)):\n",
        "        ypred.append(int(np.floor((max_label+1)*np.random.uniform(0,1))))\n",
        "\n",
        "    print(\"-----RANDOM CLASSIFIER-----\")\n",
        "    print(\"count of prediction:\",Counter(ypred).values()) # counts the elements' frequency\n",
        "    print(\"probability of prediction:\",np.fromiter(Counter(ypred).values(), dtype=float)/len(y_data)) # counts the elements' frequency\n",
        "    print(\"accuracy\",accuracy_score(y_data, ypred))\n",
        "    print(\"percision, recall, fscore,\",precision_recall_fscore_support(y_data, ypred))"
      ],
      "id": "c8603d69",
      "execution_count": null,
      "outputs": []
    },
    {
      "cell_type": "code",
      "metadata": {},
      "source": [
        "random_classifier(df[\"relevance\"])"
      ],
      "id": "965cc72c",
      "execution_count": null,
      "outputs": []
    },
    {
      "cell_type": "markdown",
      "metadata": {},
      "source": [
        "# Feature Selection\n",
        "https://scikit-learn.org/stable/modules/feature_selection.html#feature-selection\n"
      ],
      "id": "e56c9cf8"
    },
    {
      "cell_type": "code",
      "metadata": {},
      "source": [
        "X = df.loc[:, df.columns !=\"relevance\"]\n",
        "Y = df[\"relevance\"]"
      ],
      "id": "060cada8",
      "execution_count": null,
      "outputs": []
    },
    {
      "cell_type": "markdown",
      "metadata": {},
      "source": [
        "Removing the low variance columns since our dataset distribution is close to balanced. Threshold = 0.05.\n"
      ],
      "id": "1bfb4a5d"
    },
    {
      "cell_type": "code",
      "metadata": {},
      "source": [
        "from sklearn.feature_selection import VarianceThreshold\n",
        "\n",
        "sel = VarianceThreshold(threshold=(.05))\n",
        "chosen_x = sel.fit_transform(X)"
      ],
      "id": "3d3d3715",
      "execution_count": null,
      "outputs": []
    },
    {
      "cell_type": "code",
      "metadata": {},
      "source": [
        "print(\"we have following features left after removing los variance words:\",chosen_x.shape[1])\n",
        "concol = sel.get_feature_names_out()\n",
        "print(concol)\n",
        "X = pd.DataFrame(chosen_x, columns = concol)"
      ],
      "id": "f9f11535",
      "execution_count": null,
      "outputs": []
    },
    {
      "cell_type": "markdown",
      "metadata": {},
      "source": [
        "Spliting Data Set\n"
      ],
      "id": "4cc400d5"
    },
    {
      "cell_type": "code",
      "metadata": {},
      "source": [
        "x_train = X.sample(frac=0.8, axis=0)\n",
        "x_test = X.drop(x_train.index)\n",
        "\n",
        "y_train = Y.iloc[x_train.index]\n",
        "y_test = Y.drop(x_train.index)"
      ],
      "id": "332ed14f",
      "execution_count": null,
      "outputs": []
    },
    {
      "cell_type": "markdown",
      "metadata": {},
      "source": [
        "We ended up with 38 words as our features by removing some of the distracting words.\n",
        "\n",
        "# Model Tuning\n",
        "\n",
        "Carry out, document, and visualize a hyper-parameter tuning protocol. Attempt to find the set of hyper parameters that result int the optimal model (i.e. lowest training error without overfitting, validation and training error should be similar)\n"
      ],
      "id": "4bd1c795"
    },
    {
      "cell_type": "code",
      "metadata": {},
      "source": [
        "test_results=[]\n",
        "train_results=[]\n",
        "\n",
        "for num_layer in range(1,len(concol)):\n",
        "    model = tree.DecisionTreeClassifier(max_depth=num_layer)\n",
        "    model = model.fit(x_train,y_train)\n",
        "\n",
        "    yp_train=model.predict(x_train)\n",
        "    yp_test=model.predict(x_test)\n",
        "\n",
        "    # print(y_pred.shape)\n",
        "    test_results.append([num_layer,accuracy_score(y_test, yp_test),recall_score(y_test, yp_test,pos_label=0),recall_score(y_test, yp_test,pos_label=1)])\n",
        "    train_results.append([num_layer,accuracy_score(y_train, yp_train),recall_score(y_train, yp_train,pos_label=0),recall_score(y_train, yp_train,pos_label=1)])"
      ],
      "id": "2e5bffbf",
      "execution_count": null,
      "outputs": []
    },
    {
      "cell_type": "code",
      "metadata": {},
      "source": [
        "test_results = np.array(test_results)\n",
        "train_results = np.array(train_results)"
      ],
      "id": "b8c6acfd",
      "execution_count": null,
      "outputs": []
    },
    {
      "cell_type": "code",
      "metadata": {},
      "source": [
        "fig = plt.figure()\n",
        "ax1 = fig.add_subplot(111)\n",
        "\n",
        "ax1.plot(range(1,len(concol)),train_results[:,1], c=\"b\", marker='o',label = \"train\" )\n",
        "ax1.plot(range(1,len(concol)),test_results[:,1], c=\"r\", marker='o',label = \"test\" )\n",
        "plt.xlabel(\"Number of layers in decision tree (max_depth)\")\n",
        "plt.ylabel(\"Accuracy: Training (blue) and Test (red)\")\n",
        "plt.legend()\n",
        "plt.show()\n",
        "\n",
        "fig = plt.figure()\n",
        "ax1 = fig.add_subplot(111)\n",
        "\n",
        "ax1.plot(range(1,len(concol)),train_results[:,2], c=\"b\", marker='o',label = \"train\" )\n",
        "ax1.plot(range(1,len(concol)),test_results[:,2], c=\"r\", marker='o',label = \"test\" )\n",
        "plt.xlabel(\"Number of layers in decision tree (max_depth)\")\n",
        "plt.ylabel(\"Recall (Y=0): Training (blue) and Test (red)\")\n",
        "plt.legend()\n",
        "plt.show()\n",
        "\n",
        "fig = plt.figure()\n",
        "ax3 = fig.add_subplot(111)\n",
        "\n",
        "ax3.plot(range(1,len(concol)),train_results[:,3], c=\"b\", marker='o',label = \"train\" )\n",
        "ax3.plot(range(1,len(concol)),test_results[:,3], c=\"r\", marker='o',label = \"test\" )\n",
        "plt.xlabel(\"Number of layers in decision tree (max_depth)\")\n",
        "plt.ylabel(\"Recall (Y=1): Training (blue) and Test (red)\")\n",
        "plt.legend()\n",
        "plt.show()"
      ],
      "id": "2dd7b4c5",
      "execution_count": null,
      "outputs": []
    },
    {
      "cell_type": "markdown",
      "metadata": {},
      "source": [
        "As we can see, we choose our parameter of the tree around 15\n",
        "\n",
        "# Final Results\n",
        "\n",
        "Report, discuss, and visualize the results of the final optimally-fit model. For example, final\n",
        "training & validation errors, confusion matrices (values and plots), plots of the decision tree,\n",
        "etc. Comment on the quality of fit, why it might be good or bad, and what might be done to\n",
        "improve it.\n",
        "\n",
        "Type Markdown and LaTeX:  𝛼2\n"
      ],
      "id": "c33026da"
    },
    {
      "cell_type": "code",
      "metadata": {},
      "source": [
        "def confusion_plot(y_data,y_pred):\n",
        "  print(\"ACCURACY:\",accuracy_score(y_data, y_pred) )\n",
        "  print(\"NEGATIVE RECALL (Y=0):\", recall_score(y_data, y_pred, pos_label= 0))\n",
        "  print(\"NEGATIVE PRECISION (Y=0):\", precision_score(y_data, y_pred, pos_label= 0))\n",
        "  print(\"POSITIVE RECALL (Y=1):\", recall_score(y_data, y_pred, pos_label= 1))\n",
        "  print(\"POSITIVE PRECISION (Y=1):\", precision_score(y_data, y_pred, pos_label= 1))\n",
        "  \n",
        "  cm = confusion_matrix(y_data, y_pred, labels=model.classes_)\n",
        "  disp = ConfusionMatrixDisplay(confusion_matrix=cm,display_labels=model.classes_)\n",
        "  print(cm)\n",
        "\n",
        "  disp.plot()\n",
        "  plt.show()"
      ],
      "id": "0b7d7c6d",
      "execution_count": null,
      "outputs": []
    },
    {
      "cell_type": "code",
      "metadata": {},
      "source": [
        "# Using the parameter of 15\n",
        "depth = 15\n",
        "model = tree.DecisionTreeClassifier(max_depth=depth)\n",
        "model = model.fit(x_train,y_train)\n",
        "\n",
        "yp_train=model.predict(x_train)\n",
        "yp_test=model.predict(x_test)\n",
        "\n",
        "print(\"------TRAINING------\")\n",
        "confusion_plot(y_train,yp_train)\n",
        "print(\"------TEST------\")\n",
        "confusion_plot(y_test,yp_test)"
      ],
      "id": "5112ab45",
      "execution_count": null,
      "outputs": []
    },
    {
      "cell_type": "code",
      "metadata": {},
      "source": [
        "def plot_tree(model,X,Y):\n",
        "  fig = plt.figure(figsize=(25,20))\n",
        "  tree.plot_tree(model, feature_names=X.columns,class_names= True,\n",
        "                   filled=True)\n",
        "  fig.show()\n",
        "\n",
        "plot_tree(model,X,Y)"
      ],
      "id": "ae5531e4",
      "execution_count": null,
      "outputs": []
    },
    {
      "cell_type": "markdown",
      "metadata": {},
      "source": [
        "We generated the final decision tree model, which looks good, and the accuracy of the training part is very high. However, in contrast, the accuracy of the test section does not exceed 0.7, so it needs to be improved.\n",
        "\n",
        "# Conclusion\n",
        "\n",
        "It can be seen from the final results that the decision tree has a good response to this problem. Because of its high overall accuracy, it can distinguish most samples. However, because we use words, some classification criteria may be too redundant, which leads to relatively complex decision trees and some overfitting phenomena.\n",
        "However, all models are not perfect, including decision trees, naive bayes, SVM and so on. In the future, we can use more other models, such as random forest, to fit, compare and summarize the same data, which may get better and more appropriate results.\n"
      ],
      "id": "128003c0"
    }
  ],
  "metadata": {
    "kernelspec": {
      "name": "python3",
      "language": "python",
      "display_name": "Python 3 (ipykernel)"
    }
  },
  "nbformat": 4,
  "nbformat_minor": 5
}