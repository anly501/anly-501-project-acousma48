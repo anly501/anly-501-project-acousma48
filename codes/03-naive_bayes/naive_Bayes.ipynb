{
 "cells": [
  {
   "cell_type": "code",
   "execution_count": 9,
   "id": "677afec4",
   "metadata": {},
   "outputs": [],
   "source": [
    "from sklearn.naive_bayes import MultinomialNB\n",
    "from sklearn.feature_extraction.text import CountVectorizer\n",
    "from sklearn.model_selection import train_test_split\n",
    "import pandas as pd\n",
    "import numpy as np\n",
    "from sklearn.metrics import accuracy_score\n",
    "from sklearn import metrics\n",
    "import matplotlib.pyplot as plt\n",
    "import seaborn as sns"
   ]
  },
  {
   "cell_type": "code",
   "execution_count": null,
   "id": "81fbba12",
   "metadata": {},
   "outputs": [],
   "source": [
    "df = pd.read_csv('twitter_data_clean.csv')\n",
    "df"
   ]
  },
  {
   "cell_type": "code",
   "execution_count": 10,
   "id": "59136acb",
   "metadata": {},
   "outputs": [],
   "source": [
    "y = df[\"Whether the relevant\"]"
   ]
  },
  {
   "cell_type": "code",
   "execution_count": null,
   "id": "ddd23b1a",
   "metadata": {},
   "outputs": [],
   "source": [
    "vec = CountVectorizer()\n",
    "matrix = vec.fit_transform(df.text)\n",
    "X = pd.DataFrame(matrix.toarray(),columns = vec.get_feature_names_out())\n",
    "X[\"retweet_count\"]=df[\"retweet_count\"]\n",
    "train_x, test_x, train_y, test_y = train_test_split(X, y, test_size=0.5)\n",
    "from sklearn.naive_bayes import GaussianNB\n",
    "clf = GaussianNB()\n",
    "clf.fit(train_x, train_y)"
   ]
  },
  {
   "cell_type": "code",
   "execution_count": null,
   "id": "3b850bef",
   "metadata": {},
   "outputs": [],
   "source": [
    "y_predict=clf.predict(test_x)\n",
    "predicted_probas = clf.predict_proba(test_x)\n",
    "accuracy_score(test_y.values,y_predict)\n",
    "#The representation is in good agreement with the model."
   ]
  },
  {
   "cell_type": "code",
   "execution_count": null,
   "id": "1ccf8bc2",
   "metadata": {},
   "outputs": [],
   "source": [
    "#confusion Matrix\n",
    "c=metrics.confusion_matrix(test_y.values, y_predict)\n",
    "c\n",
    "group_names = [\"TN\",\"FP\",\"FN\",\"TP\"]\n",
    "group_counts = [\"{0:0.0f}\".format(value) for value in c.flatten()]\n",
    "group_percentages = [\"{0:.2%}\".format(value) for value in c.flatten()/np.sum(c)]\n",
    "labels = [f\"{v1}\\n{v2}\\n{v3}\" for v1, v2, v3 in zip(group_names,group_counts,group_percentages)]\n",
    "labels = np.asarray(labels).reshape(2,2)\n",
    "fig=sns.heatmap(c, annot=labels, fmt=\"\", cmap='Purples')\n",
    "plt.title(\"Confusion Matrix of Texts\",fontsize=18)\n",
    "fig.set_xticklabels([\"0\",\"1\"],fontsize=15)\n",
    "fig.set_yticklabels([\"0\",\"1\"],fontsize=15)\n",
    "fig.set_xlabel(\"Predicted Label\",fontsize=15)\n",
    "fig.set_ylabel(\"Actual Label\",fontsize=15)\n",
    "plt.show()\n",
    "heatmap = fig.get_figure()\n",
    "heatmap.savefig(\"./confusion matrix\")"
   ]
  },
  {
   "cell_type": "code",
   "execution_count": null,
   "id": "d113dc83",
   "metadata": {},
   "outputs": [],
   "source": [
    "!pip install wordcloud\n",
    "from wordcloud import WordCloud\n",
    "from wordcloud import ImageColorGenerator\n",
    "from wordcloud import STOPWORDS\n",
    "import matplotlib.pyplot as plt\n",
    "import pandas as pd\n",
    "df.relevant = df.drop(df[df['Whether the relevant']==0].index)\n",
    "df.relevant\n",
    "text = \" \".join(i for i in df.relevant['text'])\n",
    "exclude ={\"https\",\"Although\",\"new\",\"energy\"}\n",
    "wordcloud = WordCloud(stopwords=exclude, background_color=\"white\").generate(text)\n",
    "plt.figure( figsize=(15,10))\n",
    "plt.imshow(wordcloud, interpolation='bilinear')\n",
    "plt.axis(\"off\")\n",
    "plt.show()"
   ]
  },
  {
   "cell_type": "code",
   "execution_count": null,
   "id": "f9da96c0",
   "metadata": {},
   "outputs": [],
   "source": []
  }
 ],
 "metadata": {
  "kernelspec": {
   "display_name": "Python 3.10.4 ('ANLY501')",
   "language": "python",
   "name": "python3"
  },
  "language_info": {
   "codemirror_mode": {
    "name": "ipython",
    "version": 3
   },
   "file_extension": ".py",
   "mimetype": "text/x-python",
   "name": "python",
   "nbconvert_exporter": "python",
   "pygments_lexer": "ipython3",
   "version": "3.10.4"
  },
  "vscode": {
   "interpreter": {
    "hash": "0cc1c21349de64055bddb3a4008eacf3ea35f84c855612ad558836e928295017"
   }
  }
 },
 "nbformat": 4,
 "nbformat_minor": 5
}
